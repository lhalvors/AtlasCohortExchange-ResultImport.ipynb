{
 "cells": [
  {
   "cell_type": "markdown",
   "metadata": {},
   "source": [
    "## Atlas Cohort Exchange - Results Import\n",
    "This notebook is meant for importing the cohort inclusion results from an external Atlas site into the central Atlas site.\n",
    "\n",
    "There are several steps in this process:\n",
    "1. Export cohort definition as a JSON file (_see Atlas Cohort Exchange - Admin.docx_)\n",
    "2. Create the same cohort definition at remote Atlas site, create inclusion report (_see Atlas Cohort Exchange - User Guide.docx_)\n",
    "3. Export cohort inclusion report results to JSON file using the **AtlasCohortExchange R** package (_see Atlas Cohort Exchange - User Guide.docx_)\n",
    "4. Import cohort inclusion report results into central Atlas instance using (this) Jupyter notebook (_see Atlas Cohort Exchange - Admin.docx_)"
   ]
  },
  {
   "cell_type": "markdown",
   "metadata": {},
   "source": [
    "## Parameters - check/modify before running rest of notebook\n",
    "These are the parameters to be used when connecting to the central Atlas database to upload the results.\n",
    "\n",
    "###### Database parameters\n",
    "The parameters needed for connecting to the relevant database and (webapi) schema representing the remote Atlas site.\n",
    "\n",
    "###### Path to the JSON file\n",
    "The path to the JSON file with the cohort inclusion report results from the remote Atlas site.\n",
    "\n",
    "###### Cohort definition ID\n",
    "The cohort_definition_id of the central Atlas instance for this cohort. Note that the Cohort ID for this cohort definition most likely is different at the remote Atlas instance from the one at the central Atlas instance. It is therefore important to here specify the Cohort ID of the Cohort definition in the **central** Atlas instance, so that the results from the remote Atlas instance can correctly be tied to the orginiating Cohort definition."
   ]
  },
  {
   "cell_type": "code",
   "execution_count": 1,
   "metadata": {},
   "outputs": [],
   "source": [
    "# ##### Database parameters ##### \n",
    "dbDbms = 'postgresql' #  ONLY POSTGRESQL SUPPORTED CURRENTLY\n",
    "dbAddress = '34.251.82.109'\n",
    "dbDatabase = 'testx'\n",
    "dbSchema = 'atlas'\n",
    "dbUser = 'username'\n",
    "dbPassword='password'\n",
    "\n",
    "# ##### Path to the JSON file ##### \n",
    "jsonFilePath = 'C:/dwn/hypertension_results.json'\n",
    "\n",
    "# ##### Cohort definition ID ##### \n",
    "cohortId=147"
   ]
  },
  {
   "cell_type": "markdown",
   "metadata": {},
   "source": [
    "## Code - load the results\n",
    "Once the parameters above have been checked/modified, please run the remainder of the notebook cells to load the cohort inlusion report results into the central Atlas database."
   ]
  },
  {
   "cell_type": "code",
   "execution_count": 2,
   "metadata": {},
   "outputs": [],
   "source": [
    "# Import necessary libraries\n",
    "import pandas as pd\n",
    "import psycopg2\n",
    "import pymssql\n",
    "import json\n",
    "from sqlalchemy.ext.automap import automap_base\n",
    "from sqlalchemy.orm import sessionmaker\n",
    "from sqlalchemy import create_engine"
   ]
  },
  {
   "cell_type": "code",
   "execution_count": 3,
   "metadata": {},
   "outputs": [],
   "source": [
    "# Create connection string - ONLY POSTGRESQL SUPPORTED CURRENTLY\n",
    "if dbDbms == 'postgresql':\n",
    "    dbConnectionString = 'postgresql+psycopg2://' + dbUser + ':' + dbPassword + '@' + dbAddress + '/' + dbDatabase\n",
    "else:\n",
    "    dbConnectionString = ''"
   ]
  },
  {
   "cell_type": "code",
   "execution_count": 4,
   "metadata": {},
   "outputs": [],
   "source": [
    "# Create the canvas for a map between Python objects and database records\n",
    "Base = automap_base()\n",
    "\n",
    "# Identify database, create the map from the schema, and prepare to create sessions\n",
    "engine = create_engine(dbConnectionString)\n",
    "Base.prepare(engine, reflect=True)\n",
    "Session = sessionmaker(bind=engine)"
   ]
  },
  {
   "cell_type": "code",
   "execution_count": 5,
   "metadata": {},
   "outputs": [],
   "source": [
    "# load the JSON file\n",
    "with open(jsonFilePath) as data_file:    \n",
    "    data = json.load(data_file)"
   ]
  },
  {
   "cell_type": "code",
   "execution_count": 7,
   "metadata": {},
   "outputs": [],
   "source": [
    "# cohort\n",
    "co = pd.DataFrame(data['cohort'])\n",
    "co.id=cohortId\n",
    "co.to_sql('cohort', engine, schema=dbSchema, if_exists='replace', index=False)"
   ]
  },
  {
   "cell_type": "code",
   "execution_count": 8,
   "metadata": {},
   "outputs": [],
   "source": [
    "# cohort_inclusion\n",
    "ci = pd.DataFrame(data['cohort_inclusion'])\n",
    "ci.cohort_definition_id=cohortId\n",
    "ci.to_sql('cohort_inclusion', engine, schema=dbSchema, if_exists='replace', index=False)"
   ]
  },
  {
   "cell_type": "code",
   "execution_count": 9,
   "metadata": {},
   "outputs": [],
   "source": [
    "# cohort_inclusion_result\n",
    "cir = pd.DataFrame(data['cohort_inclusion_result'])\n",
    "cir.cohort_definition_id=cohortId\n",
    "cir.to_sql('cohort_inclusion_result', engine, schema=dbSchema, if_exists='replace', index=False)"
   ]
  },
  {
   "cell_type": "code",
   "execution_count": 10,
   "metadata": {},
   "outputs": [],
   "source": [
    "# cohort_inclusion_stats\n",
    "cis = pd.DataFrame(data['cohort_inclusion_stats'])\n",
    "cis.cohort_definition_id=cohortId\n",
    "cis.to_sql('cohort_inclusion_stats', engine, schema=dbSchema, if_exists='replace', index=False)"
   ]
  },
  {
   "cell_type": "code",
   "execution_count": 11,
   "metadata": {},
   "outputs": [],
   "source": [
    "# cohort_summary_stats\n",
    "css = pd.DataFrame(data['cohort_summary_stats'])\n",
    "css.cohort_definition_id=cohortId\n",
    "css.to_sql('cohort_summary_stats', engine, schema=dbSchema, if_exists='replace', index=False)"
   ]
  },
  {
   "cell_type": "code",
   "execution_count": null,
   "metadata": {},
   "outputs": [],
   "source": []
  }
 ],
 "metadata": {
  "kernelspec": {
   "display_name": "Python 3",
   "language": "python",
   "name": "python3"
  },
  "language_info": {
   "codemirror_mode": {
    "name": "ipython",
    "version": 3
   },
   "file_extension": ".py",
   "mimetype": "text/x-python",
   "name": "python",
   "nbconvert_exporter": "python",
   "pygments_lexer": "ipython3",
   "version": "3.6.3"
  }
 },
 "nbformat": 4,
 "nbformat_minor": 2
}
